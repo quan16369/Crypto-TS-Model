{
 "cells": [
  {
   "cell_type": "code",
   "execution_count": 2,
   "id": "13f8bac9",
   "metadata": {
    "execution": {
     "iopub.execute_input": "2025-05-11T09:34:25.376663Z",
     "iopub.status.busy": "2025-05-11T09:34:25.376426Z",
     "iopub.status.idle": "2025-05-11T09:34:31.080455Z",
     "shell.execute_reply": "2025-05-11T09:34:31.079639Z"
    },
    "papermill": {
     "duration": 5.708007,
     "end_time": "2025-05-11T09:34:31.081746",
     "exception": false,
     "start_time": "2025-05-11T09:34:25.373739",
     "status": "completed"
    },
    "tags": []
   },
   "outputs": [
    {
     "name": "stdout",
     "output_type": "stream",
     "text": [
      "Collecting ta\r\n",
      "  Downloading ta-0.11.0.tar.gz (25 kB)\r\n",
      "  Preparing metadata (setup.py) ... \u001b[?25l\u001b[?25hdone\r\n",
      "Requirement already satisfied: numpy in /usr/local/lib/python3.11/dist-packages (from ta) (1.26.4)\r\n",
      "Requirement already satisfied: pandas in /usr/local/lib/python3.11/dist-packages (from ta) (2.2.3)\r\n",
      "Requirement already satisfied: mkl_fft in /usr/local/lib/python3.11/dist-packages (from numpy->ta) (1.3.8)\r\n",
      "Requirement already satisfied: mkl_random in /usr/local/lib/python3.11/dist-packages (from numpy->ta) (1.2.4)\r\n",
      "Requirement already satisfied: mkl_umath in /usr/local/lib/python3.11/dist-packages (from numpy->ta) (0.1.1)\r\n",
      "Requirement already satisfied: mkl in /usr/local/lib/python3.11/dist-packages (from numpy->ta) (2025.1.0)\r\n",
      "Requirement already satisfied: tbb4py in /usr/local/lib/python3.11/dist-packages (from numpy->ta) (2022.1.0)\r\n",
      "Requirement already satisfied: mkl-service in /usr/local/lib/python3.11/dist-packages (from numpy->ta) (2.4.1)\r\n",
      "Requirement already satisfied: python-dateutil>=2.8.2 in /usr/local/lib/python3.11/dist-packages (from pandas->ta) (2.9.0.post0)\r\n",
      "Requirement already satisfied: pytz>=2020.1 in /usr/local/lib/python3.11/dist-packages (from pandas->ta) (2025.2)\r\n",
      "Requirement already satisfied: tzdata>=2022.7 in /usr/local/lib/python3.11/dist-packages (from pandas->ta) (2025.2)\r\n",
      "Requirement already satisfied: six>=1.5 in /usr/local/lib/python3.11/dist-packages (from python-dateutil>=2.8.2->pandas->ta) (1.17.0)\r\n",
      "Requirement already satisfied: intel-openmp<2026,>=2024 in /usr/local/lib/python3.11/dist-packages (from mkl->numpy->ta) (2024.2.0)\r\n",
      "Requirement already satisfied: tbb==2022.* in /usr/local/lib/python3.11/dist-packages (from mkl->numpy->ta) (2022.1.0)\r\n",
      "Requirement already satisfied: tcmlib==1.* in /usr/local/lib/python3.11/dist-packages (from tbb==2022.*->mkl->numpy->ta) (1.2.0)\r\n",
      "Requirement already satisfied: intel-cmplr-lib-rt in /usr/local/lib/python3.11/dist-packages (from mkl_umath->numpy->ta) (2024.2.0)\r\n",
      "Requirement already satisfied: intel-cmplr-lib-ur==2024.2.0 in /usr/local/lib/python3.11/dist-packages (from intel-openmp<2026,>=2024->mkl->numpy->ta) (2024.2.0)\r\n",
      "Building wheels for collected packages: ta\r\n",
      "  Building wheel for ta (setup.py) ... \u001b[?25l\u001b[?25hdone\r\n",
      "  Created wheel for ta: filename=ta-0.11.0-py3-none-any.whl size=29412 sha256=f5ac54ee7e82c8217449cb3b65cfdbbd2bcf1c8b4ac2bd73b45cf9cfb2364d47\r\n",
      "  Stored in directory: /root/.cache/pip/wheels/a1/d7/29/7781cc5eb9a3659d032d7d15bdd0f49d07d2b24fec29f44bc4\r\n",
      "Successfully built ta\r\n",
      "Installing collected packages: ta\r\n",
      "Successfully installed ta-0.11.0\r\n"
     ]
    }
   ],
   "source": [
    "!pip install ta  # Thư viện tính technical indicators\n"
   ]
  },
  {
   "cell_type": "code",
   "execution_count": 3,
   "id": "10e918b6",
   "metadata": {
    "execution": {
     "iopub.execute_input": "2025-05-11T09:34:31.087433Z",
     "iopub.status.busy": "2025-05-11T09:34:31.087181Z",
     "iopub.status.idle": "2025-05-11T09:34:31.093261Z",
     "shell.execute_reply": "2025-05-11T09:34:31.092611Z"
    },
    "papermill": {
     "duration": 0.010093,
     "end_time": "2025-05-11T09:34:31.094280",
     "exception": false,
     "start_time": "2025-05-11T09:34:31.084187",
     "status": "completed"
    },
    "tags": []
   },
   "outputs": [
    {
     "name": "stdout",
     "output_type": "stream",
     "text": [
      "Overwriting /kaggle/working/RWKV-TS/configs/train_config.yaml\n"
     ]
    }
   ],
   "source": [
    "%%writefile /kaggle/working/RWKV-TS/configs/train_config.yaml\n",
    "\n",
    "model:\n",
    "  # === Input/Output ===\n",
    "  enc_in: 22\n",
    "  c_out: 1\n",
    "  seq_len: 288\n",
    "  pred_len: 12\n",
    "  \n",
    "  # === LSTM Architecture ===\n",
    "  d_model: 64\n",
    "  e_layers: 4\n",
    "  dropout: 0.3\n",
    "\n",
    "  # === Time Features ===\n",
    "  time_features: 0  \n",
    "\n",
    "data:\n",
    "  path: \"/kaggle/input/btcusdt-5m-full/BTCUSDT_5m_full.csv\"\n",
    "  freq: \"5T\"\n",
    "  train_ratio: 0.8             # 80% training, 20% validation\n",
    "\n",
    "training:\n",
    "  epochs: 50                    #30\n",
    "  batch_size: 128              # Increased batch size for GPU\n",
    "  lr: 0.001                     # Reduced learning rate\n",
    "  patience: 15                 # More patience for LSTM\n",
    "  min_delta: 0.005             # More sensitive early stopping\n",
    "  log_dir: \"logs\"\n",
    "  checkpoint_dir: \"checkpoints\"\n",
    "  device: \"cuda\"               \n",
    "  clip_grad: 1.0               # Gradient clipping\n",
    "  weight_decay: 0.0001         # L2 regularization\n",
    "  resume: \"auto\""
   ]
  },
  {
   "cell_type": "code",
   "execution_count": 4,
   "id": "0361cd90",
   "metadata": {
    "execution": {
     "iopub.execute_input": "2025-05-11T09:34:31.099244Z",
     "iopub.status.busy": "2025-05-11T09:34:31.099069Z",
     "iopub.status.idle": "2025-05-11T10:43:31.325133Z",
     "shell.execute_reply": "2025-05-11T10:43:31.324384Z"
    },
    "papermill": {
     "duration": 4140.230162,
     "end_time": "2025-05-11T10:43:31.326580",
     "exception": false,
     "start_time": "2025-05-11T09:34:31.096418",
     "status": "completed"
    },
    "tags": []
   },
   "outputs": [
    {
     "name": "stdout",
     "output_type": "stream",
     "text": [
      "2025-05-11 09:34:39.486735: E external/local_xla/xla/stream_executor/cuda/cuda_fft.cc:477] Unable to register cuFFT factory: Attempting to register factory for plugin cuFFT when one has already been registered\r\n",
      "WARNING: All log messages before absl::InitializeLog() is called are written to STDERR\r\n",
      "E0000 00:00:1746956079.676142      60 cuda_dnn.cc:8310] Unable to register cuDNN factory: Attempting to register factory for plugin cuDNN when one has already been registered\r\n",
      "E0000 00:00:1746956079.737332      60 cuda_blas.cc:1418] Unable to register cuBLAS factory: Attempting to register factory for plugin cuBLAS when one has already been registered\r\n",
      "lstm\r\n",
      "Epoch 1/50: 100%|██████████| 4843/4843 [02:13<00:00, 36.41batch/s, loss=0.00047]\r\n",
      "[Eval] MSE: 0.0662 | MAE: 0.1198 | RMSE: 0.2573 | SMAPE: 10.11% | R2: 0.8096\r\n",
      "Epoch 2/50: 100%|█████████| 4843/4843 [02:11<00:00, 36.79batch/s, loss=0.000271]\r\n",
      "[Eval] MSE: 0.0649 | MAE: 0.1162 | RMSE: 0.2548 | SMAPE: 8.09% | R2: 0.8134\r\n",
      "Epoch 3/50: 100%|█████████| 4843/4843 [02:14<00:00, 36.13batch/s, loss=0.000176]\r\n",
      "[Eval] MSE: 0.0622 | MAE: 0.1122 | RMSE: 0.2495 | SMAPE: 8.20% | R2: 0.8211\r\n",
      "Epoch 4/50: 100%|█████████| 4843/4843 [02:12<00:00, 36.61batch/s, loss=0.000127]\r\n",
      "[Eval] MSE: 0.0604 | MAE: 0.1143 | RMSE: 0.2457 | SMAPE: 8.09% | R2: 0.8264\r\n",
      "Epoch 5/50: 100%|█████████| 4843/4843 [02:11<00:00, 36.72batch/s, loss=0.000111]\r\n",
      "[Eval] MSE: 0.0583 | MAE: 0.1081 | RMSE: 0.2414 | SMAPE: 8.11% | R2: 0.8325\r\n",
      "Epoch 6/50: 100%|█████████| 4843/4843 [02:11<00:00, 36.70batch/s, loss=0.000177]\r\n",
      "[Eval] MSE: 0.0576 | MAE: 0.1094 | RMSE: 0.2400 | SMAPE: 8.32% | R2: 0.8344\r\n",
      "Epoch 7/50: 100%|█████████| 4843/4843 [02:11<00:00, 36.74batch/s, loss=0.000149]\r\n",
      "[Eval] MSE: 0.0570 | MAE: 0.1086 | RMSE: 0.2387 | SMAPE: 7.34% | R2: 0.8362\r\n",
      "Epoch 8/50: 100%|█████████| 4843/4843 [02:12<00:00, 36.66batch/s, loss=0.000122]\r\n",
      "[Eval] MSE: 0.0557 | MAE: 0.1059 | RMSE: 0.2360 | SMAPE: 7.31% | R2: 0.8398\r\n",
      "Epoch 9/50: 100%|██████████| 4843/4843 [02:11<00:00, 36.73batch/s, loss=7.37e-5]\r\n",
      "[Eval] MSE: 0.0557 | MAE: 0.1094 | RMSE: 0.2359 | SMAPE: 8.01% | R2: 0.8400\r\n",
      "Epoch 10/50: 100%|████████| 4843/4843 [02:17<00:00, 35.23batch/s, loss=0.000112]\r\n",
      "[Eval] MSE: 0.0552 | MAE: 0.1074 | RMSE: 0.2349 | SMAPE: 7.27% | R2: 0.8414\r\n",
      "Epoch 11/50: 100%|████████| 4843/4843 [02:20<00:00, 34.53batch/s, loss=0.000112]\r\n",
      "[Eval] MSE: 0.0559 | MAE: 0.1064 | RMSE: 0.2365 | SMAPE: 7.53% | R2: 0.8392\r\n",
      "Epoch 12/50: 100%|█████████| 4843/4843 [02:22<00:00, 34.05batch/s, loss=7.93e-5]\r\n",
      "[Eval] MSE: 0.0558 | MAE: 0.1083 | RMSE: 0.2363 | SMAPE: 7.74% | R2: 0.8395\r\n",
      "Epoch 13/50: 100%|█████████| 4843/4843 [02:20<00:00, 34.39batch/s, loss=7.87e-5]\r\n",
      "[Eval] MSE: 0.0551 | MAE: 0.1097 | RMSE: 0.2348 | SMAPE: 7.64% | R2: 0.8415\r\n",
      "Epoch 14/50: 100%|█████████| 4843/4843 [02:19<00:00, 34.78batch/s, loss=8.36e-5]\r\n",
      "[Eval] MSE: 0.0549 | MAE: 0.1052 | RMSE: 0.2343 | SMAPE: 7.04% | R2: 0.8421\r\n",
      "Epoch 15/50: 100%|████████| 4843/4843 [02:18<00:00, 34.86batch/s, loss=0.000131]\r\n",
      "[Eval] MSE: 0.0556 | MAE: 0.1074 | RMSE: 0.2359 | SMAPE: 7.66% | R2: 0.8401\r\n",
      "Epoch 16/50: 100%|█████████| 4843/4843 [02:19<00:00, 34.67batch/s, loss=9.62e-5]\r\n",
      "[Eval] MSE: 0.0553 | MAE: 0.1050 | RMSE: 0.2353 | SMAPE: 7.30% | R2: 0.8409\r\n",
      "Epoch 17/50: 100%|█████████| 4843/4843 [02:18<00:00, 34.88batch/s, loss=7.24e-5]\r\n",
      "[Eval] MSE: 0.0552 | MAE: 0.1078 | RMSE: 0.2350 | SMAPE: 7.03% | R2: 0.8413\r\n",
      "Epoch 18/50: 100%|████████| 4843/4843 [02:22<00:00, 33.87batch/s, loss=0.000164]\r\n",
      "[Eval] MSE: 0.0557 | MAE: 0.1053 | RMSE: 0.2361 | SMAPE: 7.07% | R2: 0.8398\r\n",
      "Epoch 19/50: 100%|█████████| 4843/4843 [02:23<00:00, 33.65batch/s, loss=5.93e-5]\r\n",
      "[Eval] MSE: 0.0564 | MAE: 0.1067 | RMSE: 0.2374 | SMAPE: 7.51% | R2: 0.8379\r\n",
      "Epoch 20/50: 100%|█████████| 4843/4843 [02:22<00:00, 33.92batch/s, loss=8.66e-5]\r\n",
      "[Eval] MSE: 0.0557 | MAE: 0.1044 | RMSE: 0.2360 | SMAPE: 6.86% | R2: 0.8399\r\n",
      "Epoch 21/50: 100%|█████████| 4843/4843 [02:21<00:00, 34.20batch/s, loss=6.18e-5]\r\n",
      "[Eval] MSE: 0.0562 | MAE: 0.1032 | RMSE: 0.2371 | SMAPE: 6.91% | R2: 0.8384\r\n",
      "Epoch 22/50: 100%|█████████| 4843/4843 [02:22<00:00, 33.99batch/s, loss=6.35e-5]\r\n",
      "[Eval] MSE: 0.0567 | MAE: 0.1039 | RMSE: 0.2381 | SMAPE: 6.87% | R2: 0.8370\r\n",
      "Epoch 23/50: 100%|██████████| 4843/4843 [02:20<00:00, 34.56batch/s, loss=9.3e-5]\r\n",
      "[Eval] MSE: 0.0564 | MAE: 0.1056 | RMSE: 0.2375 | SMAPE: 7.19% | R2: 0.8378\r\n",
      "Epoch 24/50: 100%|█████████| 4843/4843 [02:19<00:00, 34.71batch/s, loss=4.93e-5]\r\n",
      "[Eval] MSE: 0.0561 | MAE: 0.1051 | RMSE: 0.2370 | SMAPE: 7.47% | R2: 0.8386\r\n",
      "Epoch 25/50: 100%|██████████| 4843/4843 [02:19<00:00, 34.62batch/s, loss=8.2e-5]\r\n",
      "[Eval] MSE: 0.0567 | MAE: 0.1037 | RMSE: 0.2380 | SMAPE: 6.78% | R2: 0.8371\r\n",
      "Figure(1000x600)\r\n"
     ]
    }
   ],
   "source": [
    "!python /kaggle/working/RWKV-TS/src/train.py \\\n",
    "  --config /kaggle/working/configs/btc_5m_config.yaml \\   "
   ]
  }
 ],
 "metadata": {
  "kaggle": {
   "accelerator": "gpu",
   "dataSources": [
    {
     "datasetId": 7345862,
     "sourceId": 11703229,
     "sourceType": "datasetVersion"
    }
   ],
   "dockerImageVersionId": 31012,
   "isGpuEnabled": true,
   "isInternetEnabled": true,
   "language": "python",
   "sourceType": "notebook"
  },
  "kernelspec": {
   "display_name": "Python 3",
   "language": "python",
   "name": "python3"
  },
  "language_info": {
   "codemirror_mode": {
    "name": "ipython",
    "version": 3
   },
   "file_extension": ".py",
   "mimetype": "text/x-python",
   "name": "python",
   "nbconvert_exporter": "python",
   "pygments_lexer": "ipython3",
   "version": "3.11.11"
  },
  "papermill": {
   "default_parameters": {},
   "duration": 4155.400394,
   "end_time": "2025-05-11T10:43:34.701170",
   "environment_variables": {},
   "exception": null,
   "input_path": "__notebook__.ipynb",
   "output_path": "__notebook__.ipynb",
   "parameters": {},
   "start_time": "2025-05-11T09:34:19.300776",
   "version": "2.6.0"
  }
 },
 "nbformat": 4,
 "nbformat_minor": 5
}
