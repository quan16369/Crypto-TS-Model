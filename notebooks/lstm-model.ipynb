{
 "cells": [
  {
   "cell_type": "code",
   "execution_count": 2,
   "id": "51115418",
   "metadata": {
    "_cell_guid": "b1076dfc-b9ad-4769-8c92-a6c4dae69d19",
    "_uuid": "8f2839f25d086af736a60e9eeb907d3b93b6e0e5",
    "execution": {
     "iopub.execute_input": "2025-05-10T18:54:05.661571Z",
     "iopub.status.busy": "2025-05-10T18:54:05.661285Z",
     "iopub.status.idle": "2025-05-10T18:54:08.420726Z",
     "shell.execute_reply": "2025-05-10T18:54:08.419802Z"
    },
    "papermill": {
     "duration": 2.763684,
     "end_time": "2025-05-10T18:54:08.421959",
     "exception": false,
     "start_time": "2025-05-10T18:54:05.658275",
     "status": "completed"
    },
    "tags": []
   },
   "outputs": [
    {
     "name": "stdout",
     "output_type": "stream",
     "text": [
      "Data shape: (775824, 6)\n",
      "Columns: ['timestamp', 'Open', 'High', 'Low', 'Close', 'Volume']\n",
      "Sample:\n",
      "             timestamp     Open     High      Low    Close    Volume\n",
      "0  2017-08-17 04:00:00  4261.48  4280.56  4261.48  4261.48  2.189061\n",
      "1  2017-08-17 04:05:00  4261.48  4261.48  4261.48  4261.48  0.000000\n",
      "2  2017-08-17 04:10:00  4261.48  4261.48  4261.48  4261.48  0.000000\n",
      "3  2017-08-17 04:15:00  4261.48  4264.88  4261.48  4261.48  0.484666\n",
      "4  2017-08-17 04:20:00  4264.88  4266.29  4264.88  4266.29  2.328570\n"
     ]
    }
   ],
   "source": [
    "import pandas as pd\n",
    "\n",
    "# Kiểm tra dữ liệu đầu vào\n",
    "df = pd.read_csv('/kaggle/input/btcusdt-5m-full/BTCUSDT_5m_full.csv')\n",
    "print(f\"Data shape: {df.shape}\\nColumns: {df.columns.tolist()}\\nSample:\\n{df.head()}\")"
   ]
  },
  {
   "cell_type": "code",
   "execution_count": 3,
   "id": "82f506f0",
   "metadata": {
    "execution": {
     "iopub.execute_input": "2025-05-10T18:54:08.427250Z",
     "iopub.status.busy": "2025-05-10T18:54:08.426792Z",
     "iopub.status.idle": "2025-05-10T18:54:14.064017Z",
     "shell.execute_reply": "2025-05-10T18:54:14.063030Z"
    },
    "papermill": {
     "duration": 5.641378,
     "end_time": "2025-05-10T18:54:14.065560",
     "exception": false,
     "start_time": "2025-05-10T18:54:08.424182",
     "status": "completed"
    },
    "tags": []
   },
   "outputs": [
    {
     "name": "stdout",
     "output_type": "stream",
     "text": [
      "Collecting ta\r\n",
      "  Downloading ta-0.11.0.tar.gz (25 kB)\r\n",
      "  Preparing metadata (setup.py) ... \u001b[?25l\u001b[?25hdone\r\n",
      "Requirement already satisfied: numpy in /usr/local/lib/python3.11/dist-packages (from ta) (1.26.4)\r\n",
      "Requirement already satisfied: pandas in /usr/local/lib/python3.11/dist-packages (from ta) (2.2.3)\r\n",
      "Requirement already satisfied: mkl_fft in /usr/local/lib/python3.11/dist-packages (from numpy->ta) (1.3.8)\r\n",
      "Requirement already satisfied: mkl_random in /usr/local/lib/python3.11/dist-packages (from numpy->ta) (1.2.4)\r\n",
      "Requirement already satisfied: mkl_umath in /usr/local/lib/python3.11/dist-packages (from numpy->ta) (0.1.1)\r\n",
      "Requirement already satisfied: mkl in /usr/local/lib/python3.11/dist-packages (from numpy->ta) (2025.1.0)\r\n",
      "Requirement already satisfied: tbb4py in /usr/local/lib/python3.11/dist-packages (from numpy->ta) (2022.1.0)\r\n",
      "Requirement already satisfied: mkl-service in /usr/local/lib/python3.11/dist-packages (from numpy->ta) (2.4.1)\r\n",
      "Requirement already satisfied: python-dateutil>=2.8.2 in /usr/local/lib/python3.11/dist-packages (from pandas->ta) (2.9.0.post0)\r\n",
      "Requirement already satisfied: pytz>=2020.1 in /usr/local/lib/python3.11/dist-packages (from pandas->ta) (2025.2)\r\n",
      "Requirement already satisfied: tzdata>=2022.7 in /usr/local/lib/python3.11/dist-packages (from pandas->ta) (2025.2)\r\n",
      "Requirement already satisfied: six>=1.5 in /usr/local/lib/python3.11/dist-packages (from python-dateutil>=2.8.2->pandas->ta) (1.17.0)\r\n",
      "Requirement already satisfied: intel-openmp<2026,>=2024 in /usr/local/lib/python3.11/dist-packages (from mkl->numpy->ta) (2024.2.0)\r\n",
      "Requirement already satisfied: tbb==2022.* in /usr/local/lib/python3.11/dist-packages (from mkl->numpy->ta) (2022.1.0)\r\n",
      "Requirement already satisfied: tcmlib==1.* in /usr/local/lib/python3.11/dist-packages (from tbb==2022.*->mkl->numpy->ta) (1.2.0)\r\n",
      "Requirement already satisfied: intel-cmplr-lib-rt in /usr/local/lib/python3.11/dist-packages (from mkl_umath->numpy->ta) (2024.2.0)\r\n",
      "Requirement already satisfied: intel-cmplr-lib-ur==2024.2.0 in /usr/local/lib/python3.11/dist-packages (from intel-openmp<2026,>=2024->mkl->numpy->ta) (2024.2.0)\r\n",
      "Building wheels for collected packages: ta\r\n",
      "  Building wheel for ta (setup.py) ... \u001b[?25l\u001b[?25hdone\r\n",
      "  Created wheel for ta: filename=ta-0.11.0-py3-none-any.whl size=29412 sha256=6d40cdf135f658d3238d0b898e8a08c1a6209d6f397c5ed54b146356ddc7de00\r\n",
      "  Stored in directory: /root/.cache/pip/wheels/a1/d7/29/7781cc5eb9a3659d032d7d15bdd0f49d07d2b24fec29f44bc4\r\n",
      "Successfully built ta\r\n",
      "Installing collected packages: ta\r\n",
      "Successfully installed ta-0.11.0\r\n"
     ]
    }
   ],
   "source": [
    "!pip install ta  # Thư viện tính technical indicators\n"
   ]
  },
  {
   "cell_type": "code",
   "execution_count": 4,
   "id": "4a28b28f",
   "metadata": {
    "execution": {
     "iopub.execute_input": "2025-05-10T18:54:14.071972Z",
     "iopub.status.busy": "2025-05-10T18:54:14.071709Z",
     "iopub.status.idle": "2025-05-10T18:54:14.077519Z",
     "shell.execute_reply": "2025-05-10T18:54:14.076806Z"
    },
    "papermill": {
     "duration": 0.010255,
     "end_time": "2025-05-10T18:54:14.078580",
     "exception": false,
     "start_time": "2025-05-10T18:54:14.068325",
     "status": "completed"
    },
    "tags": []
   },
   "outputs": [
    {
     "name": "stdout",
     "output_type": "stream",
     "text": [
      "Overwriting /kaggle/working/RWKV-TS/configs/train_config.yaml\n"
     ]
    }
   ],
   "source": [
    "%%writefile /kaggle/working/RWKV-TS/configs/train_config.yaml\n",
    "\n",
    "model:\n",
    "  # === Input/Output ===\n",
    "  enc_in: 22\n",
    "  c_out: 1\n",
    "  seq_len: 288\n",
    "  pred_len: 12\n",
    "  \n",
    "  # === LSTM Architecture ===\n",
    "  d_model: 64\n",
    "  e_layers: 4\n",
    "  dropout: 0.3\n",
    "\n",
    "  # === Time Features ===\n",
    "  time_features: 0  \n",
    "\n",
    "data:\n",
    "  path: \"/kaggle/input/btcusdt-5m-full/BTCUSDT_5m_full.csv\"\n",
    "  freq: \"5T\"\n",
    "  train_ratio: 0.8             # 80% training, 20% validation\n",
    "\n",
    "training:\n",
    "  epochs: 10                    #30\n",
    "  batch_size: 128              # Increased batch size for GPU\n",
    "  lr: 0.001                     # Reduced learning rate\n",
    "  patience: 15                 # More patience for LSTM\n",
    "  min_delta: 0.005             # More sensitive early stopping\n",
    "  log_dir: \"logs\"\n",
    "  checkpoint_dir: \"checkpoints\"\n",
    "  device: \"cuda\"               \n",
    "  clip_grad: 1.0               # Gradient clipping\n",
    "  weight_decay: 0.0001         # L2 regularization\n",
    "  resume: \"auto\""
   ]
  },
  {
   "cell_type": "code",
   "execution_count": 5,
   "id": "ddf51a11",
   "metadata": {
    "execution": {
     "iopub.execute_input": "2025-05-10T18:54:14.084136Z",
     "iopub.status.busy": "2025-05-10T18:54:14.083930Z",
     "iopub.status.idle": "2025-05-10T19:21:28.932970Z",
     "shell.execute_reply": "2025-05-10T19:21:28.931906Z"
    },
    "papermill": {
     "duration": 1634.853661,
     "end_time": "2025-05-10T19:21:28.934661",
     "exception": false,
     "start_time": "2025-05-10T18:54:14.081000",
     "status": "completed"
    },
    "tags": []
   },
   "outputs": [
    {
     "name": "stdout",
     "output_type": "stream",
     "text": [
      "2025-05-10 18:54:21.482270: E external/local_xla/xla/stream_executor/cuda/cuda_fft.cc:477] Unable to register cuFFT factory: Attempting to register factory for plugin cuFFT when one has already been registered\r\n",
      "WARNING: All log messages before absl::InitializeLog() is called are written to STDERR\r\n",
      "E0000 00:00:1746903261.671792      65 cuda_dnn.cc:8310] Unable to register cuDNN factory: Attempting to register factory for plugin cuDNN when one has already been registered\r\n",
      "E0000 00:00:1746903261.728619      65 cuda_blas.cc:1418] Unable to register cuBLAS factory: Attempting to register factory for plugin cuBLAS when one has already been registered\r\n",
      "lstm\r\n",
      "Epoch 1/10: 100%|█████████| 4843/4843 [02:19<00:00, 34.78batch/s, loss=0.000566]\r\n",
      "[Eval] MSE: 0.0008 | MAE: 0.0181 | RMSE: 0.0276 | SMAPE: 7.42% | R2: 0.9982\r\n",
      "Epoch 2/10: 100%|█████████| 4843/4843 [02:17<00:00, 35.18batch/s, loss=0.000345]\r\n",
      "[Eval] MSE: 0.0005 | MAE: 0.0140 | RMSE: 0.0228 | SMAPE: 5.88% | R2: 0.9988\r\n",
      "Epoch 3/10: 100%|█████████| 4843/4843 [02:16<00:00, 35.46batch/s, loss=0.000325]\r\n",
      "[Eval] MSE: 0.0005 | MAE: 0.0138 | RMSE: 0.0216 | SMAPE: 5.53% | R2: 0.9989\r\n",
      "Epoch 4/10: 100%|█████████| 4843/4843 [02:13<00:00, 36.35batch/s, loss=0.000201]\r\n",
      "[Eval] MSE: 0.0005 | MAE: 0.0166 | RMSE: 0.0228 | SMAPE: 7.22% | R2: 0.9988\r\n",
      "Epoch 5/10: 100%|█████████| 4843/4843 [02:12<00:00, 36.61batch/s, loss=0.000175]\r\n",
      "[Eval] MSE: 0.0004 | MAE: 0.0140 | RMSE: 0.0208 | SMAPE: 6.63% | R2: 0.9990\r\n",
      "Epoch 6/10: 100%|█████████| 4843/4843 [02:12<00:00, 36.62batch/s, loss=0.000129]\r\n",
      "[Eval] MSE: 0.0005 | MAE: 0.0150 | RMSE: 0.0227 | SMAPE: 6.71% | R2: 0.9988\r\n",
      "Epoch 7/10: 100%|█████████| 4843/4843 [02:13<00:00, 36.34batch/s, loss=0.000185]\r\n",
      "[Eval] MSE: 0.0004 | MAE: 0.0123 | RMSE: 0.0195 | SMAPE: 4.42% | R2: 0.9991\r\n",
      "Epoch 8/10: 100%|█████████| 4843/4843 [02:11<00:00, 36.87batch/s, loss=0.000206]\r\n",
      "[Eval] MSE: 0.0003 | MAE: 0.0113 | RMSE: 0.0177 | SMAPE: 3.91% | R2: 0.9993\r\n",
      "Epoch 9/10: 100%|█████████| 4843/4843 [02:12<00:00, 36.57batch/s, loss=0.000167]\r\n",
      "[Eval] MSE: 0.0004 | MAE: 0.0127 | RMSE: 0.0189 | SMAPE: 5.07% | R2: 0.9992\r\n",
      "Epoch 10/10: 100%|████████| 4843/4843 [02:13<00:00, 36.40batch/s, loss=0.000175]\r\n",
      "[Eval] MSE: 0.0004 | MAE: 0.0133 | RMSE: 0.0209 | SMAPE: 4.08% | R2: 0.9990\r\n",
      "Figure(1000x600)\r\n"
     ]
    }
   ],
   "source": [
    "!python /kaggle/working/RWKV-TS/src/train.py \\\n",
    "  --config /kaggle/working/configs/btc_5m_config.yaml \\   "
   ]
  }
 ],
 "metadata": {
  "kaggle": {
   "accelerator": "gpu",
   "dataSources": [
    {
     "datasetId": 7345862,
     "sourceId": 11703229,
     "sourceType": "datasetVersion"
    }
   ],
   "dockerImageVersionId": 31012,
   "isGpuEnabled": true,
   "isInternetEnabled": true,
   "language": "python",
   "sourceType": "notebook"
  },
  "kernelspec": {
   "display_name": "Python 3",
   "language": "python",
   "name": "python3"
  },
  "language_info": {
   "codemirror_mode": {
    "name": "ipython",
    "version": 3
   },
   "file_extension": ".py",
   "mimetype": "text/x-python",
   "name": "python",
   "nbconvert_exporter": "python",
   "pygments_lexer": "ipython3",
   "version": "3.11.11"
  },
  "papermill": {
   "default_parameters": {},
   "duration": 1655.022804,
   "end_time": "2025-05-10T19:21:35.563825",
   "environment_variables": {},
   "exception": null,
   "input_path": "__notebook__.ipynb",
   "output_path": "__notebook__.ipynb",
   "parameters": {},
   "start_time": "2025-05-10T18:54:00.541021",
   "version": "2.6.0"
  }
 },
 "nbformat": 4,
 "nbformat_minor": 5
}
